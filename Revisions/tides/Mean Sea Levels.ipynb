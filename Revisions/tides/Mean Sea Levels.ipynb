{
 "metadata": {
  "name": "",
  "signature": "sha256:7bf7a2be2aa829519ca925ea22c932c296e7ee4c0d25a2f139d0cb040412bfa8"
 },
 "nbformat": 3,
 "nbformat_minor": 0,
 "worksheets": [
  {
   "cells": [
    {
     "cell_type": "markdown",
     "metadata": {},
     "source": [
      "Notebook for calculating mean sea level at different stations over 1983-2001 (NOAAs epoch)."
     ]
    },
    {
     "cell_type": "code",
     "collapsed": false,
     "input": [
      "import pandas as pd\n",
      "from cStringIO import StringIO\n",
      "import datetime\n",
      "from dateutil import tz\n",
      "\n",
      "import requests"
     ],
     "language": "python",
     "metadata": {},
     "outputs": [],
     "prompt_number": 1
    },
    {
     "cell_type": "code",
     "collapsed": false,
     "input": [
      "\n",
      "def dateparse_archive_obs(s):\n",
      "\n",
      "    PST_tz = tz.tzoffset(\"PST\", -28800)\n",
      "    # Convert the string to a datetime object\n",
      "    unaware = datetime.datetime.strptime(s, \"%Y/%m/%d\")\n",
      "    # Add in the local time zone (Canada/Pacific)\n",
      "    aware = unaware.replace(tzinfo=PST_tz)\n",
      "    # Convert to UTC\n",
      "    return aware.astimezone(tz.tzutc())"
     ],
     "language": "python",
     "metadata": {},
     "outputs": [],
     "prompt_number": 2
    },
    {
     "cell_type": "code",
     "collapsed": false,
     "input": [
      "def load_daily_means(station_no, start_date, end_date):\n",
      "    \n",
      "    base_url = 'http://www.meds-sdmm.dfo-mpo.gc.ca/isdm-gdsi/twl-mne/inventory-inventaire/'\n",
      "    form_handler = (\n",
      "        'data-donnees-eng.asp?user=isdm-gdsi&region=PAC&tst=1&no='\n",
      "        + str(station_no))\n",
      "    sitedata = {\n",
      "        'start_period': start_date,\n",
      "        'end_period': end_date,\n",
      "        'resolution': 'd',\n",
      "        'time_zone': 'l',\n",
      "    }\n",
      "    data_provider = (\n",
      "        'download-telecharger.asp'\n",
      "        '?File=E:%5Ciusr_tmpfiles%5CTWL%5C'\n",
      "        + str(station_no) + '-'+start_date + '_slev.csv'\n",
      "        '&Name=' + str(station_no) + '-'+start_date+'_slev.csv')\n",
      "    # Go get the data from the DFO site\n",
      "    with requests.Session() as s:\n",
      "        s.post(base_url + form_handler, data=sitedata)\n",
      "        r = s.get(base_url + data_provider)\n",
      "    # Write the data to a fake file\n",
      "    fakefile = StringIO(r.content)\n",
      "    # Read the fake file\n",
      "    try:\n",
      "        wlev_meas = pd.read_csv(\n",
      "            fakefile, skiprows=7, parse_dates=[0],\n",
      "            date_parser=dateparse_archive_obs)\n",
      "    except pd.parser.CParserError:\n",
      "        data = {'Obs_date': datetime.datetime.strptime(start_date, '%d-%b-%Y'),\n",
      "                'SLEV(metres)': float('NaN')}\n",
      "        wlev_meas = pd.DataFrame(data=data, index=[0])\n",
      "\n",
      "    wlev_meas = wlev_meas.rename(\n",
      "        columns={'Obs_date': 'time', 'SLEV(metres)': 'wlev'})\n",
      "\n",
      "    return wlev_meas"
     ],
     "language": "python",
     "metadata": {},
     "outputs": [],
     "prompt_number": 3
    },
    {
     "cell_type": "code",
     "collapsed": false,
     "input": [
      "start= '01-Jan-1983'\n",
      "end = '31-Dec-2001'"
     ],
     "language": "python",
     "metadata": {},
     "outputs": [],
     "prompt_number": 4
    },
    {
     "cell_type": "heading",
     "level": 1,
     "metadata": {},
     "source": [
      "Tofino"
     ]
    },
    {
     "cell_type": "code",
     "collapsed": false,
     "input": [
      "num = '8615'\n",
      "wlev = load_daily_means(num,start,end)\n",
      "wlev['wlev'].mean()"
     ],
     "language": "python",
     "metadata": {},
     "outputs": [
      {
       "metadata": {},
       "output_type": "pyout",
       "prompt_number": 5,
       "text": [
        "2.1029832482450543"
       ]
      }
     ],
     "prompt_number": 5
    },
    {
     "cell_type": "heading",
     "level": 1,
     "metadata": {},
     "source": [
      "Port Hardy"
     ]
    },
    {
     "cell_type": "code",
     "collapsed": false,
     "input": [
      "num = '8408'\n",
      "wlev = load_daily_means(num,start,end)\n",
      "wlev['wlev'].mean()"
     ],
     "language": "python",
     "metadata": {},
     "outputs": [
      {
       "metadata": {},
       "output_type": "pyout",
       "prompt_number": 6,
       "text": [
        "2.8960410332103321"
       ]
      }
     ],
     "prompt_number": 6
    },
    {
     "cell_type": "heading",
     "level": 1,
     "metadata": {},
     "source": [
      "Point Atkinson"
     ]
    },
    {
     "cell_type": "code",
     "collapsed": false,
     "input": [
      "num = '7795'\n",
      "wlev = load_daily_means(num,start,end)\n",
      "wlev['wlev'].mean()"
     ],
     "language": "python",
     "metadata": {},
     "outputs": [
      {
       "metadata": {},
       "output_type": "pyout",
       "prompt_number": 7,
       "text": [
        "3.095163823040918"
       ]
      }
     ],
     "prompt_number": 7
    },
    {
     "cell_type": "heading",
     "level": 1,
     "metadata": {},
     "source": [
      "Campbell River"
     ]
    },
    {
     "cell_type": "code",
     "collapsed": false,
     "input": [
      "num = '8074'\n",
      "wlev = load_daily_means(num,start,end)\n",
      "wlev['wlev'].mean()"
     ],
     "language": "python",
     "metadata": {},
     "outputs": [
      {
       "metadata": {},
       "output_type": "pyout",
       "prompt_number": 8,
       "text": [
        "2.8860304756041253"
       ]
      }
     ],
     "prompt_number": 8
    },
    {
     "cell_type": "heading",
     "level": 1,
     "metadata": {},
     "source": [
      "Victoria"
     ]
    },
    {
     "cell_type": "code",
     "collapsed": false,
     "input": [
      "num = '7120'\n",
      "wlev = load_daily_means(num,start,end)\n",
      "wlev['wlev'].mean()"
     ],
     "language": "python",
     "metadata": {},
     "outputs": [
      {
       "metadata": {},
       "output_type": "pyout",
       "prompt_number": 9,
       "text": [
        "1.9017417860761325"
       ]
      }
     ],
     "prompt_number": 9
    },
    {
     "cell_type": "heading",
     "level": 1,
     "metadata": {},
     "source": [
      "Patricia Bay"
     ]
    },
    {
     "cell_type": "code",
     "collapsed": false,
     "input": [
      "num = '7277'\n",
      "wlev = load_daily_means(num,start,end)\n",
      "wlev['wlev'].mean()"
     ],
     "language": "python",
     "metadata": {},
     "outputs": [
      {
       "metadata": {},
       "output_type": "pyout",
       "prompt_number": 10,
       "text": [
        "2.298128290425224"
       ]
      }
     ],
     "prompt_number": 10
    },
    {
     "cell_type": "code",
     "collapsed": false,
     "input": [],
     "language": "python",
     "metadata": {},
     "outputs": [],
     "prompt_number": 10
    }
   ],
   "metadata": {}
  }
 ]
}