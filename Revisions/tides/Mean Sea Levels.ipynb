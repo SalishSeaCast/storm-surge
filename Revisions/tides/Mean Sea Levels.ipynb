{
 "cells": [
  {
   "cell_type": "markdown",
   "metadata": {},
   "source": [
    "Notebook for calculating mean sea level at different stations over 1983-2001 (NOAAs epoch)."
   ]
  },
  {
   "cell_type": "code",
   "execution_count": 1,
   "metadata": {
    "collapsed": false
   },
   "outputs": [],
   "source": [
    "import pandas as pd\n",
    "from cStringIO import StringIO\n",
    "import datetime\n",
    "from dateutil import tz\n",
    "from salishsea_tools import tidetools\n",
    "\n",
    "import requests"
   ]
  },
  {
   "cell_type": "code",
   "execution_count": 2,
   "metadata": {
    "collapsed": false
   },
   "outputs": [],
   "source": [
    "\n",
    "def dateparse_archive_obs(s):\n",
    "\n",
    "    PST_tz = tz.tzoffset(\"PST\", -28800)\n",
    "    # Convert the string to a datetime object\n",
    "    unaware = datetime.datetime.strptime(s, \"%Y/%m/%d\")\n",
    "    # Add in the local time zone (Canada/Pacific)\n",
    "    aware = unaware.replace(tzinfo=PST_tz)\n",
    "    # Convert to UTC\n",
    "    return aware.astimezone(tz.tzutc())"
   ]
  },
  {
   "cell_type": "code",
   "execution_count": 3,
   "metadata": {
    "collapsed": false
   },
   "outputs": [],
   "source": [
    "def load_daily_means(station_no, start_date, end_date):\n",
    "    \n",
    "    base_url = 'http://www.meds-sdmm.dfo-mpo.gc.ca/isdm-gdsi/twl-mne/inventory-inventaire/'\n",
    "    form_handler = (\n",
    "        'data-donnees-eng.asp?user=isdm-gdsi&region=PAC&tst=1&no='\n",
    "        + str(station_no))\n",
    "    sitedata = {\n",
    "        'start_period': start_date,\n",
    "        'end_period': end_date,\n",
    "        'resolution': 'd',\n",
    "        'time_zone': 'l',\n",
    "    }\n",
    "    data_provider = (\n",
    "        'download-telecharger.asp'\n",
    "        '?File=E:%5Ciusr_tmpfiles%5CTWL%5C'\n",
    "        + str(station_no) + '-'+start_date + '_slev.csv'\n",
    "        '&Name=' + str(station_no) + '-'+start_date+'_slev.csv')\n",
    "    # Go get the data from the DFO site\n",
    "    with requests.Session() as s:\n",
    "        s.post(base_url + form_handler, data=sitedata)\n",
    "        r = s.get(base_url + data_provider)\n",
    "    # Write the data to a fake file\n",
    "    fakefile = StringIO(r.content)\n",
    "    # Read the fake file\n",
    "    try:\n",
    "        wlev_meas = pd.read_csv(\n",
    "            fakefile, skiprows=7, parse_dates=[0],\n",
    "            date_parser=dateparse_archive_obs)\n",
    "    except pd.parser.CParserError:\n",
    "        data = {'Obs_date': datetime.datetime.strptime(start_date, '%d-%b-%Y'),\n",
    "                'SLEV(metres)': float('NaN')}\n",
    "        wlev_meas = pd.DataFrame(data=data, index=[0])\n",
    "\n",
    "    wlev_meas = wlev_meas.rename(\n",
    "        columns={'Obs_date': 'time', 'SLEV(metres)': 'wlev'})\n",
    "\n",
    "    return wlev_meas"
   ]
  },
  {
   "cell_type": "code",
   "execution_count": 4,
   "metadata": {
    "collapsed": false
   },
   "outputs": [],
   "source": [
    "start= '01-Jan-1983'\n",
    "end = '31-Dec-2001'"
   ]
  },
  {
   "cell_type": "markdown",
   "metadata": {},
   "source": [
    "# Tofino"
   ]
  },
  {
   "cell_type": "code",
   "execution_count": 5,
   "metadata": {
    "collapsed": false
   },
   "outputs": [
    {
     "name": "stdout",
     "output_type": "stream",
     "text": [
      "2.10298324825\n",
      "(6268,)\n"
     ]
    }
   ],
   "source": [
    "num = '8615'\n",
    "wlev = load_daily_means(num,start,end)\n",
    "print wlev['wlev'].mean()\n",
    "print wlev['wlev'].shape"
   ]
  },
  {
   "cell_type": "markdown",
   "metadata": {},
   "source": [
    "# Port Hardy"
   ]
  },
  {
   "cell_type": "code",
   "execution_count": 6,
   "metadata": {
    "collapsed": false
   },
   "outputs": [
    {
     "name": "stdout",
     "output_type": "stream",
     "text": [
      "2.89604103321\n",
      "(6775,)\n"
     ]
    }
   ],
   "source": [
    "num = '8408'\n",
    "wlev = load_daily_means(num,start,end)\n",
    "print wlev['wlev'].mean()\n",
    "print wlev['wlev'].shape"
   ]
  },
  {
   "cell_type": "markdown",
   "metadata": {},
   "source": [
    "# Bamfield"
   ]
  },
  {
   "cell_type": "code",
   "execution_count": 7,
   "metadata": {
    "collapsed": false
   },
   "outputs": [
    {
     "name": "stdout",
     "output_type": "stream",
     "text": [
      "2.03468972989\n",
      "(6923,)\n"
     ]
    }
   ],
   "source": [
    "num = '8545'\n",
    "wlev = load_daily_means(num,start,end)\n",
    "print wlev['wlev'].mean()\n",
    "print wlev['wlev'].shape"
   ]
  },
  {
   "cell_type": "markdown",
   "metadata": {},
   "source": [
    "# Point Atkinson"
   ]
  },
  {
   "cell_type": "code",
   "execution_count": 8,
   "metadata": {
    "collapsed": false
   },
   "outputs": [
    {
     "name": "stdout",
     "output_type": "stream",
     "text": [
      "3.09516382304\n",
      "(6623,)\n"
     ]
    }
   ],
   "source": [
    "num = '7795'\n",
    "wlev = load_daily_means(num,start,end)\n",
    "print wlev['wlev'].mean()\n",
    "print wlev['wlev'].shape"
   ]
  },
  {
   "cell_type": "markdown",
   "metadata": {},
   "source": [
    "# Campbell River"
   ]
  },
  {
   "cell_type": "code",
   "execution_count": 9,
   "metadata": {
    "collapsed": false
   },
   "outputs": [
    {
     "name": "stdout",
     "output_type": "stream",
     "text": [
      "2.8860304756\n",
      "(6497,)\n"
     ]
    }
   ],
   "source": [
    "num = '8074'\n",
    "wlev = load_daily_means(num,start,end)\n",
    "print wlev['wlev'].mean()\n",
    "print wlev['wlev'].shape"
   ]
  },
  {
   "cell_type": "markdown",
   "metadata": {},
   "source": [
    "# Victoria"
   ]
  },
  {
   "cell_type": "code",
   "execution_count": 10,
   "metadata": {
    "collapsed": false
   },
   "outputs": [
    {
     "name": "stdout",
     "output_type": "stream",
     "text": [
      "1.90174178608\n",
      "(6909,)\n"
     ]
    }
   ],
   "source": [
    "num = '7120'\n",
    "wlev = load_daily_means(num,start,end)\n",
    "print wlev['wlev'].mean()\n",
    "print wlev['wlev'].shape"
   ]
  },
  {
   "cell_type": "markdown",
   "metadata": {},
   "source": [
    "# Patricia Bay"
   ]
  },
  {
   "cell_type": "code",
   "execution_count": 11,
   "metadata": {
    "collapsed": false
   },
   "outputs": [
    {
     "name": "stdout",
     "output_type": "stream",
     "text": [
      "2.29812829043\n",
      "(6914,)\n"
     ]
    }
   ],
   "source": [
    "num = '7277'\n",
    "wlev = load_daily_means(num,start,end)\n",
    "print wlev['wlev'].mean()\n",
    "print wlev['wlev'].shape"
   ]
  },
  {
   "cell_type": "markdown",
   "metadata": {},
   "source": [
    "# Port Renfrew"
   ]
  },
  {
   "cell_type": "code",
   "execution_count": 12,
   "metadata": {
    "collapsed": false
   },
   "outputs": [
    {
     "name": "stdout",
     "output_type": "stream",
     "text": [
      "2.01843095178\n",
      "3961\n",
      "1983-01-01 08:00:00+00:00 1997-04-10 08:00:00+00:00\n"
     ]
    }
   ],
   "source": [
    "num = '8525'\n",
    "wlev = load_daily_means(num,start,end)\n",
    "print wlev['wlev'].mean()\n",
    "print wlev['wlev'].size\n",
    "print wlev['time'][0], wlev['time'].iloc[-1]\n"
   ]
  },
  {
   "cell_type": "markdown",
   "metadata": {},
   "source": [
    "note Port Renfrew doens't have a full dataset"
   ]
  },
  {
   "cell_type": "markdown",
   "metadata": {},
   "source": [
    "#Winter Harbour "
   ]
  },
  {
   "cell_type": "code",
   "execution_count": 13,
   "metadata": {
    "collapsed": false
   },
   "outputs": [
    {
     "name": "stdout",
     "output_type": "stream",
     "text": [
      "2.20529405429\n",
      "4642\n",
      "1989-02-01 08:00:00+00:00 2001-12-31 08:00:00+00:00\n"
     ]
    }
   ],
   "source": [
    "num = '8735'\n",
    "wlev = load_daily_means(num,start,end)\n",
    "print wlev['wlev'].mean()\n",
    "print wlev['wlev'].size\n",
    "print wlev['time'][0], wlev['time'].iloc[-1]"
   ]
  },
  {
   "cell_type": "markdown",
   "metadata": {},
   "source": [
    "Note Winter Harbour doesn't have a full dataset."
   ]
  },
  {
   "cell_type": "code",
   "execution_count": 20,
   "metadata": {
    "collapsed": false
   },
   "outputs": [],
   "source": [
    "yr=2006\n",
    "start= '31-Dec-{}'.format(yr-1)\n",
    "end = '02-Jan-{}'.format(yr+1)\n",
    "\n",
    "stns_DFO = {'PointAtkinson': 7795, 'Victoria': 7120, 'PatriciaBay': 7277, \n",
    "            'CampbellRiver':8074, 'WinterHarbour': 8735, 'Bamfield': 8545}\n",
    "MSLs={'PointAtkinson': 3.095, 'Victoria': 1.902, 'PatriciaBay': 2.298, \n",
    "      'CampbellRiver':2.886, 'WinterHarbor': 2.205}\n",
    "\n",
    "stn='WinterHarbour'\n",
    "tidetools.get_dfo_wlev(stns_DFO[stn],start,end)\n",
    "\n"
   ]
  },
  {
   "cell_type": "code",
   "execution_count": null,
   "metadata": {
    "collapsed": true
   },
   "outputs": [],
   "source": []
  }
 ],
 "metadata": {
  "kernelspec": {
   "display_name": "Python 2",
   "language": "python",
   "name": "python2"
  },
  "language_info": {
   "codemirror_mode": {
    "name": "ipython",
    "version": 2
   },
   "file_extension": ".py",
   "mimetype": "text/x-python",
   "name": "python",
   "nbconvert_exporter": "python",
   "pygments_lexer": "ipython2",
   "version": "2.7.9"
  }
 },
 "nbformat": 4,
 "nbformat_minor": 0
}
