{
 "metadata": {
  "name": "",
  "signature": "sha256:3ba0ad2b2c44d3532f365cf54576677491819479d5da2bd6e9c012f52f399aba"
 },
 "nbformat": 3,
 "nbformat_minor": 0,
 "worksheets": [
  {
   "cells": [
    {
     "cell_type": "markdown",
     "metadata": {},
     "source": [
      "Notebook for calculating mean sea level at different stations over 1983-2001 (NOAAs epoch)."
     ]
    },
    {
     "cell_type": "code",
     "collapsed": false,
     "input": [
      "import pandas as pd\n",
      "from cStringIO import StringIO\n",
      "import datetime\n",
      "from dateutil import tz\n",
      "from salishsea_tools import tidetools\n",
      "\n",
      "import requests"
     ],
     "language": "python",
     "metadata": {},
     "outputs": [],
     "prompt_number": 1
    },
    {
     "cell_type": "code",
     "collapsed": false,
     "input": [
      "\n",
      "def dateparse_archive_obs(s):\n",
      "\n",
      "    PST_tz = tz.tzoffset(\"PST\", -28800)\n",
      "    # Convert the string to a datetime object\n",
      "    unaware = datetime.datetime.strptime(s, \"%Y/%m/%d\")\n",
      "    # Add in the local time zone (Canada/Pacific)\n",
      "    aware = unaware.replace(tzinfo=PST_tz)\n",
      "    # Convert to UTC\n",
      "    return aware.astimezone(tz.tzutc())"
     ],
     "language": "python",
     "metadata": {},
     "outputs": [],
     "prompt_number": 6
    },
    {
     "cell_type": "code",
     "collapsed": false,
     "input": [
      "def load_daily_means(station_no, start_date, end_date):\n",
      "    \n",
      "    base_url = 'http://www.meds-sdmm.dfo-mpo.gc.ca/isdm-gdsi/twl-mne/inventory-inventaire/'\n",
      "    form_handler = (\n",
      "        'data-donnees-eng.asp?user=isdm-gdsi&region=PAC&tst=1&no='\n",
      "        + str(station_no))\n",
      "    sitedata = {\n",
      "        'start_period': start_date,\n",
      "        'end_period': end_date,\n",
      "        'resolution': 'd',\n",
      "        'time_zone': 'l',\n",
      "    }\n",
      "    data_provider = (\n",
      "        'download-telecharger.asp'\n",
      "        '?File=E:%5Ciusr_tmpfiles%5CTWL%5C'\n",
      "        + str(station_no) + '-'+start_date + '_slev.csv'\n",
      "        '&Name=' + str(station_no) + '-'+start_date+'_slev.csv')\n",
      "    # Go get the data from the DFO site\n",
      "    with requests.Session() as s:\n",
      "        s.post(base_url + form_handler, data=sitedata)\n",
      "        r = s.get(base_url + data_provider)\n",
      "    # Write the data to a fake file\n",
      "    fakefile = StringIO(r.content)\n",
      "    # Read the fake file\n",
      "    try:\n",
      "        wlev_meas = pd.read_csv(\n",
      "            fakefile, skiprows=7, parse_dates=[0],\n",
      "            date_parser=dateparse_archive_obs)\n",
      "    except pd.parser.CParserError:\n",
      "        data = {'Obs_date': datetime.datetime.strptime(start_date, '%d-%b-%Y'),\n",
      "                'SLEV(metres)': float('NaN')}\n",
      "        wlev_meas = pd.DataFrame(data=data, index=[0])\n",
      "\n",
      "    wlev_meas = wlev_meas.rename(\n",
      "        columns={'Obs_date': 'time', 'SLEV(metres)': 'wlev'})\n",
      "\n",
      "    return wlev_meas"
     ],
     "language": "python",
     "metadata": {},
     "outputs": [],
     "prompt_number": 7
    },
    {
     "cell_type": "code",
     "collapsed": false,
     "input": [
      "start= '01-Jan-1983'\n",
      "end = '31-Dec-2001'"
     ],
     "language": "python",
     "metadata": {},
     "outputs": [],
     "prompt_number": 8
    },
    {
     "cell_type": "heading",
     "level": 1,
     "metadata": {},
     "source": [
      "Tofino"
     ]
    },
    {
     "cell_type": "code",
     "collapsed": false,
     "input": [
      "num = '8615'\n",
      "wlev = load_daily_means(num,start,end)\n",
      "print wlev['wlev'].mean()\n",
      "print wlev['wlev'].shape"
     ],
     "language": "python",
     "metadata": {},
     "outputs": [
      {
       "output_type": "stream",
       "stream": "stdout",
       "text": [
        "2.10298324825\n",
        "(6268,)\n"
       ]
      }
     ],
     "prompt_number": 24
    },
    {
     "cell_type": "heading",
     "level": 1,
     "metadata": {},
     "source": [
      "Port Hardy"
     ]
    },
    {
     "cell_type": "code",
     "collapsed": false,
     "input": [
      "num = '8408'\n",
      "wlev = load_daily_means(num,start,end)\n",
      "print wlev['wlev'].mean()\n",
      "print wlev['wlev'].shape"
     ],
     "language": "python",
     "metadata": {},
     "outputs": [
      {
       "output_type": "stream",
       "stream": "stdout",
       "text": [
        "2.89604103321\n",
        "(6775,)\n"
       ]
      }
     ],
     "prompt_number": 23
    },
    {
     "cell_type": "heading",
     "level": 1,
     "metadata": {},
     "source": [
      "Bamfield"
     ]
    },
    {
     "cell_type": "code",
     "collapsed": false,
     "input": [
      "num = '8545'\n",
      "wlev = load_daily_means(num,start,end)\n",
      "print wlev['wlev'].mean()\n",
      "print wlev['wlev'].shape"
     ],
     "language": "python",
     "metadata": {},
     "outputs": [
      {
       "output_type": "stream",
       "stream": "stdout",
       "text": [
        "2.03468972989\n",
        "(6923,)\n"
       ]
      }
     ],
     "prompt_number": 22
    },
    {
     "cell_type": "heading",
     "level": 1,
     "metadata": {},
     "source": [
      "Point Atkinson"
     ]
    },
    {
     "cell_type": "code",
     "collapsed": false,
     "input": [
      "num = '7795'\n",
      "wlev = load_daily_means(num,start,end)\n",
      "print wlev['wlev'].mean()\n",
      "print wlev['wlev'].shape"
     ],
     "language": "python",
     "metadata": {},
     "outputs": [
      {
       "output_type": "stream",
       "stream": "stdout",
       "text": [
        "3.09516382304\n",
        "(6623,)\n"
       ]
      }
     ],
     "prompt_number": 21
    },
    {
     "cell_type": "heading",
     "level": 1,
     "metadata": {},
     "source": [
      "Campbell River"
     ]
    },
    {
     "cell_type": "code",
     "collapsed": false,
     "input": [
      "num = '8074'\n",
      "wlev = load_daily_means(num,start,end)\n",
      "print wlev['wlev'].mean()\n",
      "print wlev['wlev'].shape"
     ],
     "language": "python",
     "metadata": {},
     "outputs": [
      {
       "output_type": "stream",
       "stream": "stdout",
       "text": [
        "2.8860304756\n",
        "(6497,)\n"
       ]
      }
     ],
     "prompt_number": 20
    },
    {
     "cell_type": "heading",
     "level": 1,
     "metadata": {},
     "source": [
      "Victoria"
     ]
    },
    {
     "cell_type": "code",
     "collapsed": false,
     "input": [
      "num = '7120'\n",
      "wlev = load_daily_means(num,start,end)\n",
      "print wlev['wlev'].mean()\n",
      "print wlev['wlev'].shape"
     ],
     "language": "python",
     "metadata": {},
     "outputs": [
      {
       "output_type": "stream",
       "stream": "stdout",
       "text": [
        "1.90174178608\n",
        "(6909,)\n"
       ]
      }
     ],
     "prompt_number": 19
    },
    {
     "cell_type": "heading",
     "level": 1,
     "metadata": {},
     "source": [
      "Patricia Bay"
     ]
    },
    {
     "cell_type": "code",
     "collapsed": false,
     "input": [
      "num = '7277'\n",
      "wlev = load_daily_means(num,start,end)\n",
      "print wlev['wlev'].mean()\n",
      "print wlev['wlev'].shape"
     ],
     "language": "python",
     "metadata": {},
     "outputs": [
      {
       "output_type": "stream",
       "stream": "stdout",
       "text": [
        "2.29812829043\n",
        "(6914,)\n"
       ]
      }
     ],
     "prompt_number": 11
    },
    {
     "cell_type": "heading",
     "level": 1,
     "metadata": {},
     "source": [
      "Port Renfrew"
     ]
    },
    {
     "cell_type": "code",
     "collapsed": false,
     "input": [
      "num = '8525'\n",
      "wlev = load_daily_means(num,start,end)\n",
      "print wlev['wlev'].mean()\n",
      "print wlev['wlev'].size\n",
      "print wlev['time'][0], wlev['time'].iloc[-1]\n"
     ],
     "language": "python",
     "metadata": {},
     "outputs": [
      {
       "output_type": "stream",
       "stream": "stdout",
       "text": [
        "2.01843095178\n",
        "3961\n",
        "1983-01-01 08:00:00+00:00 1997-04-10 08:00:00+00:00\n"
       ]
      }
     ],
     "prompt_number": 18
    },
    {
     "cell_type": "markdown",
     "metadata": {},
     "source": [
      "note Port Renfrew doens't have a full dataset"
     ]
    },
    {
     "cell_type": "code",
     "collapsed": false,
     "input": [
      "yr=2012\n",
      "start= '31-Dec-{}'.format(yr-1)\n",
      "end = '02-Jan-{}'.format(yr+1)\n",
      "\n",
      "stns_DFO = {'PointAtkinson': 7795, 'Victoria': 7120, 'PatriciaBay': 7277, 'CampbellRiver':8074}\n",
      "MSLs={'PointAtkinson': 3.095, 'Victoria': 1.902, 'PatriciaBay': 2.298, 'CampbellRiver':2.886}\n",
      "\n",
      "for stn in stns_DFO:\n",
      "    tidetools.get_dfo_wlev(stns_DFO[stn],start,end)\n",
      "\n"
     ],
     "language": "python",
     "metadata": {},
     "outputs": [],
     "prompt_number": 12
    }
   ],
   "metadata": {}
  }
 ]
}