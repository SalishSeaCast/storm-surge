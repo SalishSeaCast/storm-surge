{
 "metadata": {
  "name": "",
  "signature": "sha256:236687a76eec3dc3c7dad724bee11efbaea912258d2bb41a2536652c6308bb54"
 },
 "nbformat": 3,
 "nbformat_minor": 0,
 "worksheets": [
  {
   "cells": [
    {
     "cell_type": "markdown",
     "metadata": {},
     "source": [
      "A notebook to look at factors contributing to storm surges"
     ]
    },
    {
     "cell_type": "code",
     "collapsed": false,
     "input": [
      "%matplotlib inline\n",
      "from matplotlib import pylab\n",
      "import matplotlib.pyplot as plt\n",
      "import netCDF4 as NC\n",
      "import numpy as np\n",
      "\n",
      "import arrow\n",
      "import datetime\n",
      "import pandas as pd\n",
      "import pytz\n",
      "from salishsea_tools import tidetools\n",
      "from salishsea_tools import stormtools\n",
      "from salishsea_tools import nc_tools\n",
      "\n",
      "from __future__ import division"
     ],
     "language": "python",
     "metadata": {},
     "outputs": [],
     "prompt_number": 1
    },
    {
     "cell_type": "code",
     "collapsed": false,
     "input": [
      "path = '/ocean/nsoontie/MEOPAR/SalishSea/results/storm-surges/final/feb2006/'\n",
      "\n",
      "\n",
      "runs = {'all_forcing','weather_only', 'ssh_only', 'tidesonly'}\n",
      "\n",
      "fUs={}; fVs={}; fTs={};\n",
      "\n",
      "for key in runs:\n",
      "    fUs[key] = NC.Dataset(path + key +'/SalishSea_4h_20060201_20060207_grid_U.nc','r');\n",
      "    fVs[key] = NC.Dataset(path + key +'/SalishSea_4h_20060201_20060207_grid_V.nc','r');\n",
      "    fTs[key] = NC.Dataset(path + key +'/SalishSea_4h_20060201_20060207_grid_T.nc','r');"
     ],
     "language": "python",
     "metadata": {},
     "outputs": [],
     "prompt_number": 2
    },
    {
     "cell_type": "code",
     "collapsed": false,
     "input": [
      "\n",
      "\n",
      "stations = {'PointAtkinson': 7795, 'Victoria': 7120, 'PatriciaBay': 7277, 'CampbellRiver': 8074}\n",
      "datums = {'PointAtkinson': 3.09, 'Victoria': 1.881, 'PatriciaBay': 2.256, 'CampbellRiver': 2.916, \n",
      "          'CrescentBeach': 2.44, 'WhiteRock': 2.85, 'BoundaryBay': 1 }\n",
      "thalwegs = ['Thalweg1','Thalweg2', 'Thalweg3', 'Thalweg4', 'Thalweg5', 'Thalweg6']\n",
      "allstations = {'PointAtkinson': 7795, 'Victoria': 7120, 'PatriciaBay': 7277, 'CampbellRiver': 8074,\n",
      "               'CrescentBeach': 2.44, 'WhiteRock': 2.85 , 'BoundaryBay': 1,\n",
      "               'Thalweg1': [], 'Thalweg2': [], 'Thalweg3': [], 'Thalweg4': [], 'Thalweg5': [], 'Thalweg6': [],\n",
      "               'Plume': 1} \n",
      "#datums from t_xtide\n",
      "run_stations={}\n",
      "us={}; vs={}; lats={}; lons={}; tmps={}; sals={}; sshs={}; ts={};\n",
      "\n",
      "for run in runs:\n",
      "    for key in allstations:\n",
      "        string = path + run + '/1h_' + key + '.nc'\n",
      "        run_stations[key] = NC.Dataset(string,'r');\n",
      "        tim = run_stations[key].variables['time_counter']\n",
      "        t_count=np.arange(0, tim.shape[0])\n",
      "        t=nc_tools.timestamp(run_stations[key],t_count)\n",
      "        tlist=[]\n",
      "        for a in t:\n",
      "           tlist.append(a.datetime) \n",
      "        ts[run]=tlist\n",
      "    [us[run], vs[run], lats[run], lons[run], tmps[run], sals[run], sshs[run]] = stormtools.combine_data(run_stations)\n",
      "    run_stations={};\n",
      "\n"
     ],
     "language": "python",
     "metadata": {},
     "outputs": [],
     "prompt_number": 3
    },
    {
     "cell_type": "markdown",
     "metadata": {},
     "source": [
      "Setting up for background"
     ]
    },
    {
     "cell_type": "code",
     "collapsed": false,
     "input": [
      "t = 41 #timestamp of background state\n",
      "depthlevel=0\n",
      "Us={}; Vs={}; Es ={}; Ss={}; Ts={};\n",
      "for key in runs:\n",
      "    [Us[key], Vs[key], Es[key], Ss[key], Ts[key]] = stormtools.get_variables(fUs[key],\n",
      "                                                                                 fVs[key],fTs[key],t,depthlevel)\n",
      "    \n"
     ],
     "language": "python",
     "metadata": {},
     "outputs": [],
     "prompt_number": 4
    },
    {
     "cell_type": "code",
     "collapsed": false,
     "input": [
      "fig, axs = plt.subplots(2, 2, figsize=(20, 5), sharey=True)\n",
      "import matplotlib.dates as mdates\n",
      "from datetime import timedelta\n",
      "\n",
      "font = {'size'   : 10}\n",
      "\n",
      "pylab.rc('font', **font)\n",
      "\n",
      "s='01-Feb-2006'; e='08-Feb-2006';\n",
      "unaware=datetime.datetime.strptime(s,\"%d-%b-%Y\")\n",
      "sdt = unaware.replace(tzinfo=pytz.timezone('utc'))\n",
      "unaware=datetime.datetime.strptime(e,\"%d-%b-%Y\")\n",
      "edt = unaware.replace(tzinfo=pytz.timezone('utc'))\n",
      "\n",
      "#axis limits\n",
      "s = '03-Feb-2006'; e='06-Feb-2006';\n",
      "unaware=datetime.datetime.strptime(s,\"%d-%b-%Y\")\n",
      "sax = unaware.replace(tzinfo=pytz.timezone('utc'))\n",
      "unaware=datetime.datetime.strptime(e,\"%d-%b-%Y\")\n",
      "eax = unaware.replace(tzinfo=pytz.timezone('utc'))\n",
      "\n",
      "sts1 = ['PointAtkinson','Victoria']; sts2=['PatriciaBay', 'CampbellRiver']\n",
      "proper1 = ['Point Atkinson','Victoria']; proper2 = ['Patricia Bay', 'Campbell River']\n",
      "rs=['all_forcing','ssh_only','weather_only','no_pressure']\n",
      "lb=['All forcing', 'No atmopsheric forcing', 'No anomaly forcing', 'Winds only']\n",
      "\n",
      "for (ax,location,name) in zip(axs[:,0], sts1,proper1):\n",
      "    hfmt = mdates.DateFormatter('%m/%d')\n",
      "    ax.plot(ts[rs[0]], sshs[rs[0]][location][:,0,0]-sshs['tidesonly'][location][:,0,0],\n",
      "            'b',label=lb[0],lw=1.5)\n",
      "    ax.plot(ts[rs[1]], sshs[rs[1]][location][:,0,0]-sshs['tidesonly'][location][:,0,0],\n",
      "            'g',label=lb[1],lw=1.5)\n",
      "    ax.plot(ts[rs[2]], sshs[rs[2]][location][:,0,0]-sshs['tidesonly'][location][:,0,0],\n",
      "            'r',label=lb[2],lw=1.5)\n",
      "    #ax.plot(ts[rs[3]], sshs[rs[3]][location][:,0,0]-sshs['tidesonly'][location][:,0,0], 'm',label=lb[3],lw=1.5)\n",
      "    ax.text(sax+timedelta(hours=6),-1.3,name,fontsize=10)\n",
      "    ax.set_xlim([sax,eax])\n",
      "    ax.set_ylim([-1.5,1.5])\n",
      "    ax.grid(True,lw=1)\n",
      "    ax.set_ylabel('Resiudel (m)')\n",
      "    ax.xaxis.set_major_locator(mdates.DayLocator())\n",
      "    ax.xaxis.set_major_formatter(hfmt)\n",
      "\n",
      "\n",
      "for (ax,location,name) in zip(axs[:,1], sts2,proper2):\n",
      "    hfmt = mdates.DateFormatter('%m/%d')\n",
      "    ax.plot(ts[rs[0]], sshs[rs[0]][location][:,0,0]-sshs['tidesonly'][location][:,0,0],\n",
      "            'b',label=lb[0],lw=1.5)\n",
      "    ax.plot(ts[rs[1]], sshs[rs[1]][location][:,0,0]-sshs['tidesonly'][location][:,0,0],\n",
      "            'g',label=lb[1],lw=1.5)\n",
      "    ax.plot(ts[rs[2]], sshs[rs[2]][location][:,0,0]-sshs['tidesonly'][location][:,0,0],\n",
      "            'r',label=lb[2],lw=1.5)\n",
      "    #ax.plot(ts[rs[3]], sshs[rs[3]][location][:,0,0]-sshs['tidesonly'][location][:,0,0], 'm',label=lb[3],lw=1.5)\n",
      "    ax.set_xlim([sax,eax])\n",
      "    ax.set_ylim([-1.5,1.5])\n",
      "    #ax.set_ylabel('Residual (m)')\n",
      "    ax.text(sax+timedelta(hours=6),-1.3,name,fontsize=10)\n",
      "    ax.xaxis.set_major_locator(mdates.DayLocator())\n",
      "    ax.xaxis.set_major_formatter(hfmt)\n",
      "    ax.grid(True,lw=1)\n",
      "\n",
      "axs[0,1].legend(bbox_to_anchor=(-.45, 1.7), loc=2)\n",
      "    \n",
      "fig.set_size_inches(12,4.5)"
     ],
     "language": "python",
     "metadata": {},
     "outputs": [
      {
       "metadata": {},
       "output_type": "display_data",
       "png": "[encoded data removed]",
       "text": [
        "<matplotlib.figure.Figure at 0x95c4c90>"
       ]
      }
     ],
     "prompt_number": 6
    },
    {
     "cell_type": "code",
     "collapsed": false,
     "input": [
      "fig.savefig('feb2006_factors_bg.pdf',bbox_inches='tight')"
     ],
     "language": "python",
     "metadata": {},
     "outputs": [],
     "prompt_number": 7
    },
    {
     "cell_type": "markdown",
     "metadata": {},
     "source": [
      "bg tag means a background has been removed.\n",
      "\n",
      "The background is the anomaly at t=41 from the full domain."
     ]
    },
    {
     "cell_type": "code",
     "collapsed": false,
     "input": [
      "def model_max(data,time):\n",
      "    #returns timing of max value of data in a given date range (sdt-edt date time object)\n",
      "    #data can either be anomaly or full water level\n",
      "\n",
      "    max_data = np.nanmax(data)\n",
      "    time_max =time[np.nanargmax(data)]\n",
      "    \n",
      "    return max_data, time_max"
     ],
     "language": "python",
     "metadata": {},
     "outputs": [],
     "prompt_number": 8
    },
    {
     "cell_type": "code",
     "collapsed": false,
     "input": [
      "print 'Water level'\n",
      "sts = ['PointAtkinson','Victoria','PatriciaBay', 'CampbellRiver']\n",
      "rns = ['all_forcing','ssh_only', 'weather_only']\n",
      "for location in sts:\n",
      "    print location\n",
      "    for run in rns:\n",
      "        print run\n",
      "        ssh=sshs[run][location][:,0,0]\n",
      "        tim=ts[run]\n",
      "        [max_wlev_m,time_max] = model_max(ssh,tim)\n",
      "        print \"Max water level: \", max_wlev_m, time_max\n"
     ],
     "language": "python",
     "metadata": {},
     "outputs": [
      {
       "output_type": "stream",
       "stream": "stdout",
       "text": [
        "Water level\n",
        "PointAtkinson\n",
        "all_forcing\n",
        "Max water level:  2.30723 2006-02-04 17:30:00+00:00\n",
        "ssh_only\n",
        "Max water level:  2.28848 2006-02-04 17:30:00+00:00\n",
        "weather_only\n",
        "Max water level:  1.59171 2006-02-02 16:30:00+00:00\n",
        "Victoria\n",
        "all_forcing\n",
        "Max water level:  1.36544 2006-02-04 15:30:00+00:00\n",
        "ssh_only\n",
        "Max water level:  1.4143 2006-02-04 15:30:00+00:00\n",
        "weather_only\n",
        "Max water level:  0.911484 2006-02-07 15:30:00+00:00\n",
        "PatriciaBay\n",
        "all_forcing\n",
        "Max water level:  1.70031 2006-02-04 17:30:00+00:00\n",
        "ssh_only\n",
        "Max water level:  1.73746 2006-02-04 17:30:00+00:00\n",
        "weather_only\n",
        "Max water level:  0.995846 2006-02-05 17:30:00+00:00\n",
        "CampbellRiver\n",
        "all_forcing\n",
        "Max water level:  2.10081 2006-02-04 17:30:00+00:00\n",
        "ssh_only\n",
        "Max water level:  2.07207 2006-02-04 17:30:00+00:00\n",
        "weather_only\n",
        "Max water level:  1.34439 2006-02-04 17:30:00+00:00\n"
       ]
      }
     ],
     "prompt_number": 10
    },
    {
     "cell_type": "code",
     "collapsed": false,
     "input": [
      "print 'Anomaly'\n",
      "sts = ['PointAtkinson','Victoria','PatriciaBay', 'CampbellRiver']\n",
      "rns = ['all_forcing','ssh_only', 'weather_only']\n",
      "for location in sts:\n",
      "    print location\n",
      "    for run in rns:\n",
      "        print run\n",
      "        anom=sshs[run][location][:,0,0]-sshs['tidesonly'][location][:,0,0]\n",
      "        tim=ts[run]\n",
      "        [max_wlev_m,time_max] = model_max(anom,tim)\n",
      "        print \"Max anomaly: \", max_wlev_m, time_max"
     ],
     "language": "python",
     "metadata": {},
     "outputs": [
      {
       "output_type": "stream",
       "stream": "stdout",
       "text": [
        "Anomaly\n",
        "PointAtkinson\n",
        "all_forcing\n",
        "Max anomaly:  0.821065 2006-02-04 20:30:00+00:00\n",
        "ssh_only\n",
        "Max anomaly:  0.796723 2006-02-04 18:30:00+00:00\n",
        "weather_only\n",
        "Max anomaly:  0.110838 2006-02-05 04:30:00+00:00\n",
        "Victoria\n",
        "all_forcing\n",
        "Max anomaly:  0.722731 2006-02-04 16:30:00+00:00\n",
        "ssh_only\n",
        "Max anomaly:  0.770324 2006-02-04 15:30:00+00:00\n",
        "weather_only\n",
        "Max anomaly:  0.0285774 2006-02-05 09:30:00+00:00\n",
        "PatriciaBay\n",
        "all_forcing\n",
        "Max anomaly:  0.750233 2006-02-04 19:30:00+00:00\n",
        "ssh_only\n",
        "Max anomaly:  0.786623 2006-02-04 17:30:00+00:00\n",
        "weather_only\n",
        "Max anomaly:  0.0368003 2006-02-05 08:30:00+00:00\n",
        "CampbellRiver\n",
        "all_forcing\n",
        "Max anomaly:  0.786554 2006-02-04 17:30:00+00:00\n",
        "ssh_only\n",
        "Max anomaly:  0.763726 2006-02-04 18:30:00+00:00\n",
        "weather_only\n",
        "Max anomaly:  0.0609701 2006-02-01 18:30:00+00:00\n"
       ]
      }
     ],
     "prompt_number": 11
    },
    {
     "cell_type": "code",
     "collapsed": false,
     "input": [],
     "language": "python",
     "metadata": {},
     "outputs": [],
     "prompt_number": 10
    }
   ],
   "metadata": {}
  }
 ]
}