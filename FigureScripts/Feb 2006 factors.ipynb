{
 "metadata": {
  "name": "",
  "signature": "sha256:4aec6cbcaf37d083d0656fc17ebf1cbdff1ab51c698806701810ffccf80b7ee7"
 },
 "nbformat": 3,
 "nbformat_minor": 0,
 "worksheets": [
  {
   "cells": [
    {
     "cell_type": "markdown",
     "metadata": {},
     "source": [
      "A notebook to look at factors contributing to storm surges"
     ]
    },
    {
     "cell_type": "code",
     "collapsed": false,
     "input": [
      "%matplotlib inline\n",
      "from matplotlib import pylab\n",
      "import matplotlib.pyplot as plt\n",
      "import netCDF4 as NC\n",
      "import numpy as np\n",
      "\n",
      "import arrow\n",
      "import datetime\n",
      "import pandas as pd\n",
      "import pytz\n",
      "from salishsea_tools import tidetools\n",
      "from salishsea_tools import stormtools\n",
      "from salishsea_tools import nc_tools\n",
      "\n",
      "from __future__ import division"
     ],
     "language": "python",
     "metadata": {},
     "outputs": [],
     "prompt_number": 1
    },
    {
     "cell_type": "code",
     "collapsed": false,
     "input": [
      "path = '/data/nsoontie/MEOPAR/SalishSea/results/storm-surges/tide_fix/feb2006/'\n",
      "\n",
      "\n",
      "runs = {'all_forcing','weather_only', 'ssh_only', 'tidesonly','no_pressure'}\n",
      "\n",
      "fUs={}; fVs={}; fTs={};\n",
      "\n",
      "for key in runs:\n",
      "    fUs[key] = NC.Dataset(path + key +'/SalishSea_4h_20060201_20060207_grid_U.nc','r');\n",
      "    fVs[key] = NC.Dataset(path + key +'/SalishSea_4h_20060201_20060207_grid_V.nc','r');\n",
      "    fTs[key] = NC.Dataset(path + key +'/SalishSea_4h_20060201_20060207_grid_T.nc','r');"
     ],
     "language": "python",
     "metadata": {},
     "outputs": [],
     "prompt_number": 2
    },
    {
     "cell_type": "code",
     "collapsed": false,
     "input": [
      "\n",
      "\n",
      "stations = {'PointAtkinson': 7795, 'Victoria': 7120, 'PatriciaBay': 7277, 'CampbellRiver': 8074}\n",
      "datums = {'PointAtkinson': 3.09, 'Victoria': 1.881, 'PatriciaBay': 2.256, 'CampbellRiver': 2.916, \n",
      "          'CrescentBeach': 2.44, 'WhiteRock': 2.85, 'BoundaryBay': 1 }\n",
      "thalwegs = ['Thalweg1','Thalweg2', 'Thalweg3', 'Thalweg4', 'Thalweg5', 'Thalweg6']\n",
      "allstations = {'PointAtkinson': 7795, 'Victoria': 7120, 'PatriciaBay': 7277, 'CampbellRiver': 8074,\n",
      "               'CrescentBeach': 2.44, 'WhiteRock': 2.85 , 'BoundaryBay': 1,\n",
      "               'Thalweg1': [], 'Thalweg2': [], 'Thalweg3': [], 'Thalweg4': [], 'Thalweg5': [], 'Thalweg6': [],\n",
      "               'Plume': 1} \n",
      "#datums from t_xtide\n",
      "run_stations={}\n",
      "us={}; vs={}; lats={}; lons={}; tmps={}; sals={}; sshs={}; ts={};\n",
      "\n",
      "for run in runs:\n",
      "    for key in allstations:\n",
      "        string = path + run + '/1h_' + key + '.nc'\n",
      "        run_stations[key] = NC.Dataset(string,'r');\n",
      "        tim = run_stations[key].variables['time_counter']\n",
      "        t_count=np.arange(0, tim.shape[0])\n",
      "        t=nc_tools.timestamp(run_stations[key],t_count)\n",
      "        tlist=[]\n",
      "        for a in t:\n",
      "           tlist.append(a.datetime) \n",
      "        ts[run]=tlist\n",
      "    [us[run], vs[run], lats[run], lons[run], tmps[run], sals[run], sshs[run]] = stormtools.combine_data(run_stations)\n",
      "    run_stations={};\n",
      "\n"
     ],
     "language": "python",
     "metadata": {},
     "outputs": [],
     "prompt_number": 3
    },
    {
     "cell_type": "markdown",
     "metadata": {},
     "source": [
      "Setting up for background"
     ]
    },
    {
     "cell_type": "code",
     "collapsed": false,
     "input": [
      "t = 41 #timestamp of background state\n",
      "depthlevel=0\n",
      "Us={}; Vs={}; Es ={}; Ss={}; Ts={};\n",
      "for key in runs:\n",
      "    [Us[key], Vs[key], Es[key], Ss[key], Ts[key]] = stormtools.get_variables(fUs[key],\n",
      "                                                                                 fVs[key],fTs[key],t,depthlevel)\n",
      "    \n",
      "bg={}\n",
      "for key in runs:\n",
      "    bg[key]={}\n",
      "    for location in stations:\n",
      "        bg[key][location] = stormtools.get_background(Es[key],Es['tidesonly'],location)\n"
     ],
     "language": "python",
     "metadata": {},
     "outputs": [],
     "prompt_number": 4
    },
    {
     "cell_type": "code",
     "collapsed": false,
     "input": [
      "print bg"
     ],
     "language": "python",
     "metadata": {},
     "outputs": [
      {
       "output_type": "stream",
       "stream": "stdout",
       "text": [
        "{'no_pressure': {'PatriciaBay': -0.0065284967, 'PointAtkinson': -0.0085352659, 'CampbellRiver': 0.00041900575, 'Victoria': 0.00066646934}, 'ssh_only': {'PatriciaBay': -0.043647416, 'PointAtkinson': -0.041645825, 'CampbellRiver': -0.013387501, 'Victoria': -0.042543858}, 'tidesonly': {'PatriciaBay': 0.0, 'PointAtkinson': 0.0, 'CampbellRiver': 0.0, 'Victoria': 0.0}, 'weather_only': {'PatriciaBay': -0.061204888, 'PointAtkinson': 0.12478361, 'CampbellRiver': 0.13845235, 'Victoria': -0.036694765}, 'all_forcing': {'PatriciaBay': -0.10464087, 'PointAtkinson': 0.084524304, 'CampbellRiver': 0.12854618, 'Victoria': -0.078297198}}\n"
       ]
      }
     ],
     "prompt_number": 5
    },
    {
     "cell_type": "code",
     "collapsed": false,
     "input": [
      "fig, axs = plt.subplots(2, 2, figsize=(20, 5), sharey=True)\n",
      "import matplotlib.dates as mdates\n",
      "from datetime import timedelta\n",
      "\n",
      "font = {'size'   : 10}\n",
      "\n",
      "pylab.rc('font', **font)\n",
      "\n",
      "s='01-Feb-2006'; e='08-Feb-2006';\n",
      "unaware=datetime.datetime.strptime(s,\"%d-%b-%Y\")\n",
      "sdt = unaware.replace(tzinfo=pytz.timezone('utc'))\n",
      "unaware=datetime.datetime.strptime(e,\"%d-%b-%Y\")\n",
      "edt = unaware.replace(tzinfo=pytz.timezone('utc'))\n",
      "\n",
      "#axis limits\n",
      "s = '03-Feb-2006'; e='06-Feb-2006';\n",
      "unaware=datetime.datetime.strptime(s,\"%d-%b-%Y\")\n",
      "sax = unaware.replace(tzinfo=pytz.timezone('utc'))\n",
      "unaware=datetime.datetime.strptime(e,\"%d-%b-%Y\")\n",
      "eax = unaware.replace(tzinfo=pytz.timezone('utc'))\n",
      "\n",
      "sts1 = ['PointAtkinson','Victoria']; sts2=['PatriciaBay', 'CampbellRiver']\n",
      "proper1 = ['Point Atkinson','Victoria']; proper2 = ['Patricia Bay', 'Campbell River']\n",
      "rs=['all_forcing','ssh_only','weather_only','no_pressure']\n",
      "lb=['All forcing', 'No atmopsheric forcing', 'No anomaly forcing', 'Winds only']\n",
      "\n",
      "for (ax,location,name) in zip(axs[:,0], sts1,proper1):\n",
      "    hfmt = mdates.DateFormatter('%m/%d')\n",
      "    ax.plot(ts[rs[0]], sshs[rs[0]][location][:,0,0]-sshs['tidesonly'][location][:,0,0]-bg[rs[0]][location],\n",
      "            'b',label=lb[0],lw=1.5)\n",
      "    ax.plot(ts[rs[1]], sshs[rs[1]][location][:,0,0]-sshs['tidesonly'][location][:,0,0]-bg[rs[1]][location],\n",
      "            'g',label=lb[1],lw=1.5)\n",
      "    ax.plot(ts[rs[2]], sshs[rs[2]][location][:,0,0]-sshs['tidesonly'][location][:,0,0]-bg[rs[2]][location],\n",
      "            'r',label=lb[2],lw=1.5)\n",
      "    #ax.plot(ts[rs[3]], sshs[rs[3]][location][:,0,0]-sshs['tidesonly'][location][:,0,0], 'm',label=lb[3],lw=1.5)\n",
      "    ax.text(sax+timedelta(hours=6),-1.3,name,fontsize=10)\n",
      "    ax.set_xlim([sax,eax])\n",
      "    ax.set_ylim([-1.5,1.5])\n",
      "    ax.grid(True,lw=1)\n",
      "    ax.set_ylabel('Resiudel (m)')\n",
      "    ax.xaxis.set_major_locator(mdates.DayLocator())\n",
      "    ax.xaxis.set_major_formatter(hfmt)\n",
      "\n",
      "\n",
      "for (ax,location,name) in zip(axs[:,1], sts2,proper2):\n",
      "    hfmt = mdates.DateFormatter('%m/%d')\n",
      "    ax.plot(ts[rs[0]], sshs[rs[0]][location][:,0,0]-sshs['tidesonly'][location][:,0,0]-bg[rs[0]][location],\n",
      "            'b',label=lb[0],lw=1.5)\n",
      "    ax.plot(ts[rs[1]], sshs[rs[1]][location][:,0,0]-sshs['tidesonly'][location][:,0,0]-bg[rs[1]][location],\n",
      "            'g',label=lb[1],lw=1.5)\n",
      "    ax.plot(ts[rs[2]], sshs[rs[2]][location][:,0,0]-sshs['tidesonly'][location][:,0,0]-bg[rs[2]][location],\n",
      "            'r',label=lb[2],lw=1.5)\n",
      "    #ax.plot(ts[rs[3]], sshs[rs[3]][location][:,0,0]-sshs['tidesonly'][location][:,0,0], 'm',label=lb[3],lw=1.5)\n",
      "    ax.set_xlim([sax,eax])\n",
      "    ax.set_ylim([-1.5,1.5])\n",
      "    #ax.set_ylabel('Residual (m)')\n",
      "    ax.text(sax+timedelta(hours=6),-1.3,name,fontsize=10)\n",
      "    ax.xaxis.set_major_locator(mdates.DayLocator())\n",
      "    ax.xaxis.set_major_formatter(hfmt)\n",
      "    ax.grid(True,lw=1)\n",
      "\n",
      "axs[0,1].legend(bbox_to_anchor=(-.45, 1.7), loc=2)\n",
      "    \n",
      "fig.set_size_inches(12,4.5)"
     ],
     "language": "python",
     "metadata": {},
     "outputs": [
      {
       "metadata": {},
       "output_type": "display_data",
       "png": "[encoded data removed]",
       "text": [
        "<matplotlib.figure.Figure at 0x87fb190>"
       ]
      }
     ],
     "prompt_number": 6
    },
    {
     "cell_type": "code",
     "collapsed": false,
     "input": [
      "fig.savefig('feb2006_factors_bg.pdf',bbox_inches='tight')"
     ],
     "language": "python",
     "metadata": {},
     "outputs": [],
     "prompt_number": 7
    },
    {
     "cell_type": "markdown",
     "metadata": {},
     "source": [
      "bg tag means a background has been removed.\n",
      "\n",
      "The background is the anomaly at t=41 from the full domain."
     ]
    },
    {
     "cell_type": "code",
     "collapsed": false,
     "input": [
      "def model_max(data,time):\n",
      "    #returns timing of max value of data in a given date range (sdt-edt date time object)\n",
      "    #data can either be anomaly or full water level\n",
      "\n",
      "    max_data = np.nanmax(data)\n",
      "    time_max =time[np.nanargmax(data)]\n",
      "    \n",
      "    return max_data, time_max"
     ],
     "language": "python",
     "metadata": {},
     "outputs": [],
     "prompt_number": 8
    },
    {
     "cell_type": "code",
     "collapsed": false,
     "input": [
      "print 'Water level'\n",
      "sts = ['PointAtkinson','Victoria','PatriciaBay', 'CampbellRiver']\n",
      "rns = ['all_forcing','ssh_only', 'weather_only','no_pressure']\n",
      "for location in sts:\n",
      "    print location\n",
      "    for run in rns:\n",
      "        print run\n",
      "        ssh=sshs[run][location][:,0,0]-bg[run][location]\n",
      "        tim=ts[run]\n",
      "        [max_wlev_m,time_max] = model_max(ssh,tim)\n",
      "        print \"Max water level: \", max_wlev_m, time_max\n"
     ],
     "language": "python",
     "metadata": {},
     "outputs": [
      {
       "output_type": "stream",
       "stream": "stdout",
       "text": [
        "Water level\n",
        "PointAtkinson\n",
        "all_forcing\n",
        "Max water level:  2.12849 2006-02-04 17:30:00+00:00\n",
        "ssh_only\n",
        "Max water level:  2.07662 2006-02-04 17:30:00+00:00\n",
        "weather_only\n",
        "Max water level:  1.6683 2006-02-01 16:30:00+00:00\n",
        "no_pressure\n",
        "Max water level:  1.62259 2006-02-01 16:30:00+00:00\n",
        "Victoria\n",
        "all_forcing\n",
        "Max water level:  1.10147 2006-02-04 15:30:00+00:00\n",
        "ssh_only\n",
        "Max water level:  1.12945 2006-02-04 15:30:00+00:00\n",
        "weather_only\n",
        "Max water level:  0.901244 2006-02-07 15:30:00+00:00\n",
        "no_pressure\n",
        "Max water level:  0.895141 2006-02-07 15:30:00+00:00\n",
        "PatriciaBay\n",
        "all_forcing\n",
        "Max water level:  1.53869 2006-02-04 17:30:00+00:00\n",
        "ssh_only\n",
        "Max water level:  1.53865 2006-02-04 17:30:00+00:00\n",
        "weather_only\n",
        "Max water level:  1.0942 2006-02-01 15:30:00+00:00\n",
        "no_pressure\n",
        "Max water level:  1.04682 2006-02-01 15:30:00+00:00\n",
        "CampbellRiver\n",
        "all_forcing\n",
        "Max water level:  1.82102 2006-02-04 17:30:00+00:00\n",
        "ssh_only\n",
        "Max water level:  1.77885 2006-02-04 17:30:00+00:00\n",
        "weather_only\n",
        "Max water level:  1.30822 2006-02-01 15:30:00+00:00\n",
        "no_pressure\n",
        "Max water level:  1.25438 2006-02-03 16:30:00+00:00\n"
       ]
      }
     ],
     "prompt_number": 9
    },
    {
     "cell_type": "code",
     "collapsed": false,
     "input": [
      "print 'Anomaly'\n",
      "sts = ['PointAtkinson','Victoria','PatriciaBay', 'CampbellRiver']\n",
      "rns = ['all_forcing','ssh_only', 'weather_only','no_pressure']\n",
      "for location in sts:\n",
      "    print location\n",
      "    for run in rns:\n",
      "        print run\n",
      "        anom=sshs[run][location][:,0,0]-sshs['tidesonly'][location][:,0,0] -bg[run][location]\n",
      "        tim=ts[run]\n",
      "        [max_wlev_m,time_max] = model_max(anom,tim)\n",
      "        print \"Max anomaly: \", max_wlev_m, time_max"
     ],
     "language": "python",
     "metadata": {},
     "outputs": [
      {
       "output_type": "stream",
       "stream": "stdout",
       "text": [
        "Anomaly\n",
        "PointAtkinson\n",
        "all_forcing\n",
        "Max anomaly:  0.699359 2006-02-04 20:30:00+00:00\n",
        "ssh_only\n",
        "Max anomaly:  0.644252 2006-02-04 18:30:00+00:00\n",
        "weather_only\n",
        "Max anomaly:  0.15611 2006-02-05 04:30:00+00:00\n",
        "no_pressure\n",
        "Max anomaly:  0.0898331 2006-02-05 02:30:00+00:00\n",
        "Victoria\n",
        "all_forcing\n",
        "Max anomaly:  0.586317 2006-02-04 16:30:00+00:00\n",
        "ssh_only\n",
        "Max anomaly:  0.609134 2006-02-04 15:30:00+00:00\n",
        "weather_only\n",
        "Max anomaly:  0.0510185 2006-02-05 05:30:00+00:00\n",
        "no_pressure\n",
        "Max anomaly:  0.0168937 2006-02-04 21:30:00+00:00\n",
        "PatriciaBay\n",
        "all_forcing\n",
        "Max anomaly:  0.635366 2006-02-04 17:30:00+00:00\n",
        "ssh_only\n",
        "Max anomaly:  0.635324 2006-02-04 17:30:00+00:00\n",
        "weather_only\n",
        "Max anomaly:  0.129912 2006-02-01 04:30:00+00:00\n",
        "no_pressure\n",
        "Max anomaly:  0.027408 2006-02-01 12:30:00+00:00\n",
        "CampbellRiver\n",
        "all_forcing\n",
        "Max anomaly:  0.670828 2006-02-04 15:30:00+00:00\n",
        "ssh_only\n",
        "Max anomaly:  0.576775 2006-02-04 17:30:00+00:00\n",
        "weather_only\n",
        "Max anomaly:  0.178867 2006-02-01 22:30:00+00:00\n",
        "no_pressure\n",
        "Max anomaly:  0.0480633 2006-02-01 10:30:00+00:00\n"
       ]
      }
     ],
     "prompt_number": 10
    },
    {
     "cell_type": "code",
     "collapsed": false,
     "input": [],
     "language": "python",
     "metadata": {},
     "outputs": [],
     "prompt_number": 10
    }
   ],
   "metadata": {}
  }
 ]
}